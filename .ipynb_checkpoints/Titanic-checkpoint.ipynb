{
 "cells": [
  {
   "cell_type": "markdown",
   "metadata": {},
   "source": [
    "# 一、数据概览(Data Abstract)"
   ]
  },
  {
   "cell_type": "code",
   "execution_count": 1,
   "metadata": {
    "scrolled": false
   },
   "outputs": [
    {
     "name": "stdout",
     "output_type": "stream",
     "text": [
      "Titanic数据前五行：\n"
     ]
    },
    {
     "data": {
      "text/html": [
       "<div>\n",
       "<style>\n",
       "    .dataframe thead tr:only-child th {\n",
       "        text-align: right;\n",
       "    }\n",
       "\n",
       "    .dataframe thead th {\n",
       "        text-align: left;\n",
       "    }\n",
       "\n",
       "    .dataframe tbody tr th {\n",
       "        vertical-align: top;\n",
       "    }\n",
       "</style>\n",
       "<table border=\"1\" class=\"dataframe\">\n",
       "  <thead>\n",
       "    <tr style=\"text-align: right;\">\n",
       "      <th></th>\n",
       "      <th>PassengerId</th>\n",
       "      <th>Survived</th>\n",
       "      <th>Pclass</th>\n",
       "      <th>Name</th>\n",
       "      <th>Sex</th>\n",
       "      <th>Age</th>\n",
       "      <th>SibSp</th>\n",
       "      <th>Parch</th>\n",
       "      <th>Ticket</th>\n",
       "      <th>Fare</th>\n",
       "      <th>Cabin</th>\n",
       "      <th>Embarked</th>\n",
       "    </tr>\n",
       "  </thead>\n",
       "  <tbody>\n",
       "    <tr>\n",
       "      <th>0</th>\n",
       "      <td>1</td>\n",
       "      <td>0</td>\n",
       "      <td>3</td>\n",
       "      <td>Braund, Mr. Owen Harris</td>\n",
       "      <td>male</td>\n",
       "      <td>22.0</td>\n",
       "      <td>1</td>\n",
       "      <td>0</td>\n",
       "      <td>A/5 21171</td>\n",
       "      <td>7.2500</td>\n",
       "      <td>NaN</td>\n",
       "      <td>S</td>\n",
       "    </tr>\n",
       "    <tr>\n",
       "      <th>1</th>\n",
       "      <td>2</td>\n",
       "      <td>1</td>\n",
       "      <td>1</td>\n",
       "      <td>Cumings, Mrs. John Bradley (Florence Briggs Th...</td>\n",
       "      <td>female</td>\n",
       "      <td>38.0</td>\n",
       "      <td>1</td>\n",
       "      <td>0</td>\n",
       "      <td>PC 17599</td>\n",
       "      <td>71.2833</td>\n",
       "      <td>C85</td>\n",
       "      <td>C</td>\n",
       "    </tr>\n",
       "    <tr>\n",
       "      <th>2</th>\n",
       "      <td>3</td>\n",
       "      <td>1</td>\n",
       "      <td>3</td>\n",
       "      <td>Heikkinen, Miss. Laina</td>\n",
       "      <td>female</td>\n",
       "      <td>26.0</td>\n",
       "      <td>0</td>\n",
       "      <td>0</td>\n",
       "      <td>STON/O2. 3101282</td>\n",
       "      <td>7.9250</td>\n",
       "      <td>NaN</td>\n",
       "      <td>S</td>\n",
       "    </tr>\n",
       "    <tr>\n",
       "      <th>3</th>\n",
       "      <td>4</td>\n",
       "      <td>1</td>\n",
       "      <td>1</td>\n",
       "      <td>Futrelle, Mrs. Jacques Heath (Lily May Peel)</td>\n",
       "      <td>female</td>\n",
       "      <td>35.0</td>\n",
       "      <td>1</td>\n",
       "      <td>0</td>\n",
       "      <td>113803</td>\n",
       "      <td>53.1000</td>\n",
       "      <td>C123</td>\n",
       "      <td>S</td>\n",
       "    </tr>\n",
       "    <tr>\n",
       "      <th>4</th>\n",
       "      <td>5</td>\n",
       "      <td>0</td>\n",
       "      <td>3</td>\n",
       "      <td>Allen, Mr. William Henry</td>\n",
       "      <td>male</td>\n",
       "      <td>35.0</td>\n",
       "      <td>0</td>\n",
       "      <td>0</td>\n",
       "      <td>373450</td>\n",
       "      <td>8.0500</td>\n",
       "      <td>NaN</td>\n",
       "      <td>S</td>\n",
       "    </tr>\n",
       "  </tbody>\n",
       "</table>\n",
       "</div>"
      ],
      "text/plain": [
       "   PassengerId  Survived  Pclass  \\\n",
       "0            1         0       3   \n",
       "1            2         1       1   \n",
       "2            3         1       3   \n",
       "3            4         1       1   \n",
       "4            5         0       3   \n",
       "\n",
       "                                                Name     Sex   Age  SibSp  \\\n",
       "0                            Braund, Mr. Owen Harris    male  22.0      1   \n",
       "1  Cumings, Mrs. John Bradley (Florence Briggs Th...  female  38.0      1   \n",
       "2                             Heikkinen, Miss. Laina  female  26.0      0   \n",
       "3       Futrelle, Mrs. Jacques Heath (Lily May Peel)  female  35.0      1   \n",
       "4                           Allen, Mr. William Henry    male  35.0      0   \n",
       "\n",
       "   Parch            Ticket     Fare Cabin Embarked  \n",
       "0      0         A/5 21171   7.2500   NaN        S  \n",
       "1      0          PC 17599  71.2833   C85        C  \n",
       "2      0  STON/O2. 3101282   7.9250   NaN        S  \n",
       "3      0            113803  53.1000  C123        S  \n",
       "4      0            373450   8.0500   NaN        S  "
      ]
     },
     "execution_count": 1,
     "metadata": {},
     "output_type": "execute_result"
    }
   ],
   "source": [
    "import pandas as pd\n",
    "titanic_df = pd.read_csv('titanic-data.csv')\n",
    "print \"Titanic数据前五行：\"\n",
    "titanic_df.head()"
   ]
  },
  {
   "cell_type": "code",
   "execution_count": 2,
   "metadata": {
    "scrolled": true
   },
   "outputs": [
    {
     "name": "stdout",
     "output_type": "stream",
     "text": [
      "Titanic各列的统计数据：\n"
     ]
    },
    {
     "data": {
      "text/html": [
       "<div>\n",
       "<style>\n",
       "    .dataframe thead tr:only-child th {\n",
       "        text-align: right;\n",
       "    }\n",
       "\n",
       "    .dataframe thead th {\n",
       "        text-align: left;\n",
       "    }\n",
       "\n",
       "    .dataframe tbody tr th {\n",
       "        vertical-align: top;\n",
       "    }\n",
       "</style>\n",
       "<table border=\"1\" class=\"dataframe\">\n",
       "  <thead>\n",
       "    <tr style=\"text-align: right;\">\n",
       "      <th></th>\n",
       "      <th>PassengerId</th>\n",
       "      <th>Survived</th>\n",
       "      <th>Pclass</th>\n",
       "      <th>Age</th>\n",
       "      <th>SibSp</th>\n",
       "      <th>Parch</th>\n",
       "      <th>Fare</th>\n",
       "    </tr>\n",
       "  </thead>\n",
       "  <tbody>\n",
       "    <tr>\n",
       "      <th>count</th>\n",
       "      <td>891.000000</td>\n",
       "      <td>891.000000</td>\n",
       "      <td>891.000000</td>\n",
       "      <td>714.000000</td>\n",
       "      <td>891.000000</td>\n",
       "      <td>891.000000</td>\n",
       "      <td>891.000000</td>\n",
       "    </tr>\n",
       "    <tr>\n",
       "      <th>mean</th>\n",
       "      <td>446.000000</td>\n",
       "      <td>0.383838</td>\n",
       "      <td>2.308642</td>\n",
       "      <td>29.699118</td>\n",
       "      <td>0.523008</td>\n",
       "      <td>0.381594</td>\n",
       "      <td>32.204208</td>\n",
       "    </tr>\n",
       "    <tr>\n",
       "      <th>std</th>\n",
       "      <td>257.353842</td>\n",
       "      <td>0.486592</td>\n",
       "      <td>0.836071</td>\n",
       "      <td>14.526497</td>\n",
       "      <td>1.102743</td>\n",
       "      <td>0.806057</td>\n",
       "      <td>49.693429</td>\n",
       "    </tr>\n",
       "    <tr>\n",
       "      <th>min</th>\n",
       "      <td>1.000000</td>\n",
       "      <td>0.000000</td>\n",
       "      <td>1.000000</td>\n",
       "      <td>0.420000</td>\n",
       "      <td>0.000000</td>\n",
       "      <td>0.000000</td>\n",
       "      <td>0.000000</td>\n",
       "    </tr>\n",
       "    <tr>\n",
       "      <th>25%</th>\n",
       "      <td>223.500000</td>\n",
       "      <td>0.000000</td>\n",
       "      <td>2.000000</td>\n",
       "      <td>20.125000</td>\n",
       "      <td>0.000000</td>\n",
       "      <td>0.000000</td>\n",
       "      <td>7.910400</td>\n",
       "    </tr>\n",
       "    <tr>\n",
       "      <th>50%</th>\n",
       "      <td>446.000000</td>\n",
       "      <td>0.000000</td>\n",
       "      <td>3.000000</td>\n",
       "      <td>28.000000</td>\n",
       "      <td>0.000000</td>\n",
       "      <td>0.000000</td>\n",
       "      <td>14.454200</td>\n",
       "    </tr>\n",
       "    <tr>\n",
       "      <th>75%</th>\n",
       "      <td>668.500000</td>\n",
       "      <td>1.000000</td>\n",
       "      <td>3.000000</td>\n",
       "      <td>38.000000</td>\n",
       "      <td>1.000000</td>\n",
       "      <td>0.000000</td>\n",
       "      <td>31.000000</td>\n",
       "    </tr>\n",
       "    <tr>\n",
       "      <th>max</th>\n",
       "      <td>891.000000</td>\n",
       "      <td>1.000000</td>\n",
       "      <td>3.000000</td>\n",
       "      <td>80.000000</td>\n",
       "      <td>8.000000</td>\n",
       "      <td>6.000000</td>\n",
       "      <td>512.329200</td>\n",
       "    </tr>\n",
       "  </tbody>\n",
       "</table>\n",
       "</div>"
      ],
      "text/plain": [
       "       PassengerId    Survived      Pclass         Age       SibSp  \\\n",
       "count   891.000000  891.000000  891.000000  714.000000  891.000000   \n",
       "mean    446.000000    0.383838    2.308642   29.699118    0.523008   \n",
       "std     257.353842    0.486592    0.836071   14.526497    1.102743   \n",
       "min       1.000000    0.000000    1.000000    0.420000    0.000000   \n",
       "25%     223.500000    0.000000    2.000000   20.125000    0.000000   \n",
       "50%     446.000000    0.000000    3.000000   28.000000    0.000000   \n",
       "75%     668.500000    1.000000    3.000000   38.000000    1.000000   \n",
       "max     891.000000    1.000000    3.000000   80.000000    8.000000   \n",
       "\n",
       "            Parch        Fare  \n",
       "count  891.000000  891.000000  \n",
       "mean     0.381594   32.204208  \n",
       "std      0.806057   49.693429  \n",
       "min      0.000000    0.000000  \n",
       "25%      0.000000    7.910400  \n",
       "50%      0.000000   14.454200  \n",
       "75%      0.000000   31.000000  \n",
       "max      6.000000  512.329200  "
      ]
     },
     "execution_count": 2,
     "metadata": {},
     "output_type": "execute_result"
    }
   ],
   "source": [
    "print \"Titanic各列的统计数据：\"\n",
    "titanic_df.describe()"
   ]
  },
  {
   "cell_type": "markdown",
   "metadata": {},
   "source": [
    "# 二、提出问题(Question Phase)"
   ]
  },
  {
   "cell_type": "markdown",
   "metadata": {},
   "source": [
    "我提出的问题是：Titanic事故中，生存率与哪些变量有关系，我希望考虑的变量有：船舱等级(Pclass)、性别(Sex)、年龄(Age)、同行亲属数量(SibSp)和票价(Fare)"
   ]
  },
  {
   "cell_type": "markdown",
   "metadata": {},
   "source": [
    "# 三、数据整理(Wrangling Phase)"
   ]
  },
  {
   "cell_type": "markdown",
   "metadata": {},
   "source": [
    "首先，我们检查数据的完整性"
   ]
  },
  {
   "cell_type": "code",
   "execution_count": 3,
   "metadata": {
    "scrolled": true
   },
   "outputs": [
    {
     "name": "stdout",
     "output_type": "stream",
     "text": [
      "<class 'pandas.core.frame.DataFrame'>\n",
      "RangeIndex: 891 entries, 0 to 890\n",
      "Data columns (total 12 columns):\n",
      "PassengerId    891 non-null int64\n",
      "Survived       891 non-null int64\n",
      "Pclass         891 non-null int64\n",
      "Name           891 non-null object\n",
      "Sex            891 non-null object\n",
      "Age            714 non-null float64\n",
      "SibSp          891 non-null int64\n",
      "Parch          891 non-null int64\n",
      "Ticket         891 non-null object\n",
      "Fare           891 non-null float64\n",
      "Cabin          204 non-null object\n",
      "Embarked       889 non-null object\n",
      "dtypes: float64(2), int64(5), object(5)\n",
      "memory usage: 83.6+ KB\n"
     ]
    }
   ],
   "source": [
    "titanic_df.info()"
   ]
  },
  {
   "cell_type": "markdown",
   "metadata": {},
   "source": [
    "可以看出，该数据集总共有891行观测值，他们的索引为从0至890，数据集包含12个列变量，其中列变量Age、Cabin和Embarked存在缺失值。\n"
   ]
  },
  {
   "cell_type": "markdown",
   "metadata": {},
   "source": [
    "其中年龄(Age)缺失值不算很多，但是年龄(Age)是我们分析的重要变量，因此需要处理Age缺失的行数据，这里我将Age缺失的行数据删除掉。"
   ]
  },
  {
   "cell_type": "markdown",
   "metadata": {},
   "source": [
    "舱位号(Cabin)的缺失值非常多，但它不是我们分析的变量，因此对该缺失值不做处理。"
   ]
  },
  {
   "cell_type": "markdown",
   "metadata": {},
   "source": [
    "列变量是否登船(Embarked)仅有两个缺失值，但是若这两位乘客未登船，他们将不会在Titanic事故现场，这会影响我们对生存率的分析，因此我将这两行数据删除掉。"
   ]
  },
  {
   "cell_type": "markdown",
   "metadata": {},
   "source": [
    "下一行代码我对数据进行了以上处理。"
   ]
  },
  {
   "cell_type": "code",
   "execution_count": 4,
   "metadata": {
    "collapsed": true,
    "scrolled": false
   },
   "outputs": [],
   "source": [
    "titanic_df.dropna(axis = 0, subset = ['Age', 'Embarked'], inplace = True)"
   ]
  },
  {
   "cell_type": "markdown",
   "metadata": {},
   "source": [
    "再次检查数据的完整性"
   ]
  },
  {
   "cell_type": "code",
   "execution_count": 5,
   "metadata": {
    "scrolled": false
   },
   "outputs": [
    {
     "name": "stdout",
     "output_type": "stream",
     "text": [
      "<class 'pandas.core.frame.DataFrame'>\n",
      "Int64Index: 712 entries, 0 to 890\n",
      "Data columns (total 12 columns):\n",
      "PassengerId    712 non-null int64\n",
      "Survived       712 non-null int64\n",
      "Pclass         712 non-null int64\n",
      "Name           712 non-null object\n",
      "Sex            712 non-null object\n",
      "Age            712 non-null float64\n",
      "SibSp          712 non-null int64\n",
      "Parch          712 non-null int64\n",
      "Ticket         712 non-null object\n",
      "Fare           712 non-null float64\n",
      "Cabin          183 non-null object\n",
      "Embarked       712 non-null object\n",
      "dtypes: float64(2), int64(5), object(5)\n",
      "memory usage: 72.3+ KB\n"
     ]
    }
   ],
   "source": [
    "titanic_df.info()"
   ]
  },
  {
   "cell_type": "markdown",
   "metadata": {},
   "source": [
    "可以看出，经过数据筛选，当前该数据集总共有712行观测值，除了舱位号(Cabin)外，其他列均没有缺失值。"
   ]
  },
  {
   "cell_type": "markdown",
   "metadata": {},
   "source": [
    "# 四、探索阶段(Explore Phase)"
   ]
  },
  {
   "cell_type": "markdown",
   "metadata": {},
   "source": [
    "## 1、单变量分析"
   ]
  },
  {
   "cell_type": "markdown",
   "metadata": {},
   "source": [
    "### (1) 整体(Abstract)"
   ]
  },
  {
   "cell_type": "code",
   "execution_count": 6,
   "metadata": {
    "scrolled": true
   },
   "outputs": [
    {
     "data": {
      "text/html": [
       "<div>\n",
       "<style>\n",
       "    .dataframe thead tr:only-child th {\n",
       "        text-align: right;\n",
       "    }\n",
       "\n",
       "    .dataframe thead th {\n",
       "        text-align: left;\n",
       "    }\n",
       "\n",
       "    .dataframe tbody tr th {\n",
       "        vertical-align: top;\n",
       "    }\n",
       "</style>\n",
       "<table border=\"1\" class=\"dataframe\">\n",
       "  <thead>\n",
       "    <tr style=\"text-align: right;\">\n",
       "      <th></th>\n",
       "      <th>PassengerId</th>\n",
       "      <th>Survived</th>\n",
       "      <th>Pclass</th>\n",
       "      <th>Age</th>\n",
       "      <th>SibSp</th>\n",
       "      <th>Parch</th>\n",
       "      <th>Fare</th>\n",
       "    </tr>\n",
       "  </thead>\n",
       "  <tbody>\n",
       "    <tr>\n",
       "      <th>count</th>\n",
       "      <td>712.000000</td>\n",
       "      <td>712.000000</td>\n",
       "      <td>712.000000</td>\n",
       "      <td>712.000000</td>\n",
       "      <td>712.000000</td>\n",
       "      <td>712.000000</td>\n",
       "      <td>712.000000</td>\n",
       "    </tr>\n",
       "    <tr>\n",
       "      <th>mean</th>\n",
       "      <td>448.589888</td>\n",
       "      <td>0.404494</td>\n",
       "      <td>2.240169</td>\n",
       "      <td>29.642093</td>\n",
       "      <td>0.514045</td>\n",
       "      <td>0.432584</td>\n",
       "      <td>34.567251</td>\n",
       "    </tr>\n",
       "    <tr>\n",
       "      <th>std</th>\n",
       "      <td>258.683191</td>\n",
       "      <td>0.491139</td>\n",
       "      <td>0.836854</td>\n",
       "      <td>14.492933</td>\n",
       "      <td>0.930692</td>\n",
       "      <td>0.854181</td>\n",
       "      <td>52.938648</td>\n",
       "    </tr>\n",
       "    <tr>\n",
       "      <th>min</th>\n",
       "      <td>1.000000</td>\n",
       "      <td>0.000000</td>\n",
       "      <td>1.000000</td>\n",
       "      <td>0.420000</td>\n",
       "      <td>0.000000</td>\n",
       "      <td>0.000000</td>\n",
       "      <td>0.000000</td>\n",
       "    </tr>\n",
       "    <tr>\n",
       "      <th>25%</th>\n",
       "      <td>222.750000</td>\n",
       "      <td>0.000000</td>\n",
       "      <td>1.000000</td>\n",
       "      <td>20.000000</td>\n",
       "      <td>0.000000</td>\n",
       "      <td>0.000000</td>\n",
       "      <td>8.050000</td>\n",
       "    </tr>\n",
       "    <tr>\n",
       "      <th>50%</th>\n",
       "      <td>445.000000</td>\n",
       "      <td>0.000000</td>\n",
       "      <td>2.000000</td>\n",
       "      <td>28.000000</td>\n",
       "      <td>0.000000</td>\n",
       "      <td>0.000000</td>\n",
       "      <td>15.645850</td>\n",
       "    </tr>\n",
       "    <tr>\n",
       "      <th>75%</th>\n",
       "      <td>677.250000</td>\n",
       "      <td>1.000000</td>\n",
       "      <td>3.000000</td>\n",
       "      <td>38.000000</td>\n",
       "      <td>1.000000</td>\n",
       "      <td>1.000000</td>\n",
       "      <td>33.000000</td>\n",
       "    </tr>\n",
       "    <tr>\n",
       "      <th>max</th>\n",
       "      <td>891.000000</td>\n",
       "      <td>1.000000</td>\n",
       "      <td>3.000000</td>\n",
       "      <td>80.000000</td>\n",
       "      <td>5.000000</td>\n",
       "      <td>6.000000</td>\n",
       "      <td>512.329200</td>\n",
       "    </tr>\n",
       "  </tbody>\n",
       "</table>\n",
       "</div>"
      ],
      "text/plain": [
       "       PassengerId    Survived      Pclass         Age       SibSp  \\\n",
       "count   712.000000  712.000000  712.000000  712.000000  712.000000   \n",
       "mean    448.589888    0.404494    2.240169   29.642093    0.514045   \n",
       "std     258.683191    0.491139    0.836854   14.492933    0.930692   \n",
       "min       1.000000    0.000000    1.000000    0.420000    0.000000   \n",
       "25%     222.750000    0.000000    1.000000   20.000000    0.000000   \n",
       "50%     445.000000    0.000000    2.000000   28.000000    0.000000   \n",
       "75%     677.250000    1.000000    3.000000   38.000000    1.000000   \n",
       "max     891.000000    1.000000    3.000000   80.000000    5.000000   \n",
       "\n",
       "            Parch        Fare  \n",
       "count  712.000000  712.000000  \n",
       "mean     0.432584   34.567251  \n",
       "std      0.854181   52.938648  \n",
       "min      0.000000    0.000000  \n",
       "25%      0.000000    8.050000  \n",
       "50%      0.000000   15.645850  \n",
       "75%      1.000000   33.000000  \n",
       "max      6.000000  512.329200  "
      ]
     },
     "execution_count": 6,
     "metadata": {},
     "output_type": "execute_result"
    }
   ],
   "source": [
    "titanic_df.describe()"
   ]
  },
  {
   "cell_type": "markdown",
   "metadata": {},
   "source": [
    "Titanic的乘客平均年龄为29.64岁，有记录的年龄最小乘客为0.42岁，年龄最大乘客为80岁。\n"
   ]
  },
  {
   "cell_type": "markdown",
   "metadata": {},
   "source": [
    "在有年龄记录的乘客中，生存率为40.45%。"
   ]
  },
  {
   "cell_type": "markdown",
   "metadata": {},
   "source": [
    "船舱等级分为3个等级，分别是1级、2级和3级，乘客的平均船舱等级为2.24。"
   ]
  },
  {
   "cell_type": "markdown",
   "metadata": {},
   "source": [
    "平均每名乘客有0.51位同行亲属，有些乘客单独出行，没有同行亲属，有些乘客拥有最高的5位同行亲属。"
   ]
  },
  {
   "cell_type": "markdown",
   "metadata": {},
   "source": [
    "乘客中的平均票价是34.57，最便宜的票价是0，最贵的票价是512.33。"
   ]
  },
  {
   "cell_type": "markdown",
   "metadata": {},
   "source": [
    "### (2) 乘客年龄(Age)"
   ]
  },
  {
   "cell_type": "code",
   "execution_count": 7,
   "metadata": {},
   "outputs": [
    {
     "data": {
      "text/plain": [
       "<matplotlib.text.Text at 0xa537f28>"
      ]
     },
     "execution_count": 7,
     "metadata": {},
     "output_type": "execute_result"
    },
    {
     "data": {
      "image/png": "[encoded data removed]",
      "text/plain": [
       "<matplotlib.figure.Figure at 0x56fb048>"
      ]
     },
     "metadata": {},
     "output_type": "display_data"
    }
   ],
   "source": [
    "import numpy as np\n",
    "import matplotlib.pyplot as plt\n",
    "%matplotlib inline\n",
    "titanic_age_df = titanic_df[['Age']]\n",
    "plt.hist(np.array(titanic_age_df), bins = 40, range = [0, 80])\n",
    "plt.title('The age distribution of passengers')\n",
    "plt.xlabel(\"Age\")\n",
    "plt.ylabel(\"The number of passengers\")"
   ]
  },
  {
   "cell_type": "markdown",
   "metadata": {},
   "source": [
    "Titanic的乘客大多为16至40岁，其中18至32岁的青壮年最多。乘客中，10岁以下儿童较多，10岁至18岁的青少年较少。60岁以上的老年人较少。"
   ]
  },
  {
   "cell_type": "markdown",
   "metadata": {},
   "source": [
    "### (3) 船舱等级(Pclass)"
   ]
  },
  {
   "cell_type": "code",
   "execution_count": 8,
   "metadata": {
    "scrolled": false
   },
   "outputs": [
    {
     "name": "stdout",
     "output_type": "stream",
     "text": [
      "1、2、3等级的船舱的人数分别为：\n",
      "[[184, 173, 355]]\n"
     ]
    },
    {
     "data": {
      "image/png": "[encoded data removed]",
      "text/plain": [
       "<matplotlib.figure.Figure at 0xa5b1198>"
      ]
     },
     "metadata": {},
     "output_type": "display_data"
    }
   ],
   "source": [
    "import matplotlib.mlab as mlab\n",
    "\n",
    "titanic_pclass_df = titanic_df[['Pclass']]\n",
    "titanic_pclass_list = [0, 0, 0]\n",
    "for index in titanic_pclass_df.iterrows():\n",
    "    if index[1][0] == 1:\n",
    "        titanic_pclass_list[0] += 1\n",
    "    if index[1][0] == 2:\n",
    "        titanic_pclass_list[1] += 1\n",
    "    if index[1][0] == 3:\n",
    "        titanic_pclass_list[2] += 1\n",
    "pclass_x = [1, 2, 3]  \n",
    "pclass_y = [titanic_pclass_list]\n",
    "print \"1、2、3等级的船舱的人数分别为：\"\n",
    "print pclass_y\n",
    "plt.bar(pclass_x, titanic_pclass_list, 0.4)\n",
    "plt.title(\"The number of passengers with various Pclass\")\n",
    "plt.xlabel(\"Pclass\")\n",
    "plt.ylabel(\"The number of passengers\")\n",
    "plt.show()    "
   ]
  },
  {
   "cell_type": "markdown",
   "metadata": {},
   "source": [
    "1级船舱的乘客有184人，2级船舱的乘客有173人，3级船舱的乘客有355人。可以看出，3级船舱乘客最多，1级船舱比2级船舱乘客数量略多。"
   ]
  },
  {
   "cell_type": "markdown",
   "metadata": {},
   "source": [
    "### (4) 性别(Sex)"
   ]
  },
  {
   "cell_type": "code",
   "execution_count": 9,
   "metadata": {
    "scrolled": false
   },
   "outputs": [
    {
     "data": {
      "image/png": "[encoded data removed]",
      "text/plain": [
       "<matplotlib.figure.Figure at 0x98e50f0>"
      ]
     },
     "metadata": {},
     "output_type": "display_data"
    }
   ],
   "source": [
    "titanic_sex_df = titanic_df[['Sex']]\n",
    "titanic_sex_list = [0, 0]\n",
    "for index in titanic_sex_df.iterrows():\n",
    "    if index[1][0] == 'male':\n",
    "        titanic_sex_list[0] += 1\n",
    "    if index[1][0] == 'female':\n",
    "        titanic_sex_list[1] += 1\n",
    "labels = ['male passengers: ' + str(titanic_sex_list[0]) + ' | ' + str((titanic_sex_list[0]*1.0 / len(titanic_sex_df)*1.0)*100.0)[: 5] + '%',\\\n",
    "          'female passengers: '  + str(titanic_sex_list[1]) + ' | ' + str((titanic_sex_list[1]*1.0 / len(titanic_sex_df)*1.0)*100.0)[: 5] + \"%\"]\n",
    "sizes = [titanic_sex_list[0], titanic_sex_list[1]]\n",
    "colors = ['lightblue', 'pink']\n",
    "patches, texts = plt.pie(sizes, colors=colors, startangle=90)\n",
    "plt.legend(patches, labels, loc=\"best\")\n",
    "# Set aspect ratio to be equal so that pie is drawn as a circle.\n",
    "plt.axis('equal')\n",
    "plt.tight_layout()\n",
    "plt.show()"
   ]
  },
  {
   "cell_type": "markdown",
   "metadata": {},
   "source": [
    "男性乘客有453人，女性乘客有259人，男性乘客占比63.62%，女性乘客占比36.37%，男性乘客比女性乘客更多。"
   ]
  },
  {
   "cell_type": "markdown",
   "metadata": {},
   "source": [
    "### (5) 同行亲属数量(SibSp)"
   ]
  },
  {
   "cell_type": "code",
   "execution_count": 10,
   "metadata": {
    "scrolled": false
   },
   "outputs": [
    {
     "data": {
      "image/png": "[encoded data removed]",
      "text/plain": [
       "<matplotlib.figure.Figure at 0xa7c8828>"
      ]
     },
     "metadata": {},
     "output_type": "display_data"
    },
    {
     "data": {
      "image/png": "[encoded data removed]",
      "text/plain": [
       "<matplotlib.figure.Figure at 0xa873ac8>"
      ]
     },
     "metadata": {},
     "output_type": "display_data"
    }
   ],
   "source": [
    "titanic_sibsp_df = titanic_df[['SibSp']]\n",
    "titanic_sibsp_list = [0, 0, 0, 0, 0, 0]\n",
    "for index in titanic_sibsp_df.iterrows():\n",
    "    if index[1][0] == 0:\n",
    "        titanic_sibsp_list[0] += 1\n",
    "    if index[1][0] == 1:\n",
    "        titanic_sibsp_list[1] += 1\n",
    "    if index[1][0] == 2:\n",
    "        titanic_sibsp_list[2] += 1\n",
    "    if index[1][0] == 3:\n",
    "        titanic_sibsp_list[3] += 1\n",
    "    if index[1][0] == 4:\n",
    "        titanic_sibsp_list[4] += 1\n",
    "    if index[1][0] == 5:\n",
    "        titanic_sibsp_list[5] += 1\n",
    "sibsp_x = [0, 1, 2, 3, 4, 5]  \n",
    "sibsp_y = [titanic_sibsp_list]\n",
    "plt.bar(sibsp_x, titanic_sibsp_list, 0.4)\n",
    "plt.title(\"The number of passengers with various SibSp\")\n",
    "plt.xlabel(\"SibSp\")\n",
    "plt.ylabel(\"The number of passengers\")\n",
    "plt.show() \n",
    "\n",
    "labels = ['0 SibSp: ' + str(titanic_sibsp_list[0]) + ' | ' + str((titanic_sibsp_list[0]*1.0 / len(titanic_sibsp_df)*1.0)*100.0)[: 5] + '%',\\\n",
    "          '1 SibSp: ' + str(titanic_sibsp_list[1]) + ' | ' + str((titanic_sibsp_list[1]*1.0 / len(titanic_sibsp_df)*1.0)*100.0)[: 5] + '%',\\\n",
    "          '2 SibSp: ' + str(titanic_sibsp_list[2]) + ' | ' + str((titanic_sibsp_list[2]*1.0 / len(titanic_sibsp_df)*1.0)*100.0)[: 5] + '%',\\\n",
    "          '3 SibSp: ' + str(titanic_sibsp_list[3]) + ' | ' + str((titanic_sibsp_list[3]*1.0 / len(titanic_sibsp_df)*1.0)*100.0)[: 5] + '%',\\\n",
    "          '4 SibSp: ' + str(titanic_sibsp_list[4]) + ' | ' + str((titanic_sibsp_list[4]*1.0 / len(titanic_sibsp_df)*1.0)*100.0)[: 5] + '%',\\\n",
    "          '5 SibSp: ' + str(titanic_sibsp_list[5]) + ' | ' + str((titanic_sibsp_list[5]*1.0 / len(titanic_sibsp_df)*1.0)*100.0)[: 5] + '%']\n",
    "sizes = [titanic_sibsp_list[0], titanic_sibsp_list[1], titanic_sibsp_list[2], titanic_sibsp_list[3], titanic_sibsp_list[4], titanic_sibsp_list[5]]\n",
    "colors = ['pink', 'lightyellow', 'lightblue', 'lightgreen', 'lightcyan', 'violet']\n",
    "patches, texts = plt.pie(sizes, colors=colors, startangle=90)\n",
    "plt.legend(patches, labels, loc=\"best\")\n",
    "# Set aspect ratio to be equal so that pie is drawn as a circle.\n",
    "plt.axis('equal')\n",
    "plt.tight_layout()\n",
    "plt.show()"
   ]
  },
  {
   "cell_type": "markdown",
   "metadata": {},
   "source": [
    "可以看出近2/3的乘客都是独自出行，约1/4的乘客有一位同行亲属，少量的乘客有两人或两人以上的同行亲属。"
   ]
  },
  {
   "cell_type": "markdown",
   "metadata": {},
   "source": [
    "### (6) 票价(Fare)"
   ]
  },
  {
   "cell_type": "code",
   "execution_count": 11,
   "metadata": {},
   "outputs": [
    {
     "data": {
      "text/plain": [
       "<matplotlib.text.Text at 0xb303748>"
      ]
     },
     "execution_count": 11,
     "metadata": {},
     "output_type": "execute_result"
    },
    {
     "data": {
      "image/png": "[encoded data removed]",
      "text/plain": [
       "<matplotlib.figure.Figure at 0xa75b588>"
      ]
     },
     "metadata": {},
     "output_type": "display_data"
    }
   ],
   "source": [
    "titanic_fare_df = titanic_df[['Fare']]\n",
    "plt.hist(np.array(titanic_fare_df), bins = 57, range = [0, 513])\n",
    "plt.title('The fare distribution of passengers')\n",
    "plt.xlabel(\"fare\")\n",
    "plt.ylabel(\"The number of passengers\")"
   ]
  },
  {
   "cell_type": "markdown",
   "metadata": {},
   "source": []
  },
  {
   "cell_type": "markdown",
   "metadata": {},
   "source": [
    "这里，我们发现一个异常情况，大多乘客的票价在0至280之间，没有280至500价位的船票，但有极少量的乘客的票价在500多，我猜测那是类似于总统套房一样的奢侈舱位。这个过大的值对我们的分析造成了干扰，所以我再绘制一幅过滤了这些极大值的直方图。"
   ]
  },
  {
   "cell_type": "code",
   "execution_count": 12,
   "metadata": {
    "scrolled": false
   },
   "outputs": [
    {
     "data": {
      "text/plain": [
       "<matplotlib.text.Text at 0xb2f7da0>"
      ]
     },
     "execution_count": 12,
     "metadata": {},
     "output_type": "execute_result"
    },
    {
     "data": {
      "image/png": "[encoded data removed]",
      "text/plain": [
       "<matplotlib.figure.Figure at 0xb4a4b00>"
      ]
     },
     "metadata": {},
     "output_type": "display_data"
    }
   ],
   "source": [
    "titanic_fare_dropped_df = titanic_fare_df[(titanic_fare_df.Fare < 500)]\n",
    "plt.hist(np.array(titanic_fare_dropped_df), bins = 40, range = [0, 280])\n",
    "plt.title('The fare distribution of passengers')\n",
    "plt.xlabel(\"fare\")\n",
    "plt.ylabel(\"The number of passengers\")"
   ]
  },
  {
   "cell_type": "markdown",
   "metadata": {},
   "source": [
    "可以看出，除去极少数票价高于500的奢侈舱位，大多的票价都集中在0至40之间，这些应该属于大量的廉价舱位。"
   ]
  },
  {
   "cell_type": "markdown",
   "metadata": {},
   "source": [
    "中等舱位的票价大多集中在50至90之间，另有少量110至160之间和210至270之间的高等舱位。"
   ]
  },
  {
   "cell_type": "markdown",
   "metadata": {},
   "source": [
    "票价的购买人数分布大体遵循帕累托定律(Pareto Principle)，廉价舱位人数非常多，而高等舱位和奢侈舱位人数极少。"
   ]
  },
  {
   "cell_type": "markdown",
   "metadata": {},
   "source": [
    "## 2、多变量分析"
   ]
  },
  {
   "cell_type": "markdown",
   "metadata": {},
   "source": [
    "### (1) 生存率与乘客年龄的联系(Survived - Age)"
   ]
  },
  {
   "cell_type": "markdown",
   "metadata": {},
   "source": [
    "因为Titanic的乘客年龄分布不均，所以需要分析各年龄段的具体生存和死亡状况，以下代码我构建了不同年龄段乘客生存和死亡的柱形图和堆积图。"
   ]
  },
  {
   "cell_type": "code",
   "execution_count": 13,
   "metadata": {
    "scrolled": false
   },
   "outputs": [
    {
     "name": "stdout",
     "output_type": "stream",
     "text": [
      "各年龄段的生存者和死亡者人数：\n",
      "         survived  dead\n",
      "0 - 10         38    24\n",
      "10 - 20        41    61\n",
      "20 - 30        77   143\n",
      "30 - 40        72    94\n",
      "40 - 50        34    55\n",
      "50 - 60        20    28\n",
      "60 - 70         5    13\n",
      "70 - 80         0     6\n",
      "80 - 90         1     0\n"
     ]
    },
    {
     "data": {
      "text/plain": [
       "<matplotlib.axes._subplots.AxesSubplot at 0xba81b00>"
      ]
     },
     "execution_count": 13,
     "metadata": {},
     "output_type": "execute_result"
    },
    {
     "data": {
      "image/png": "[encoded data removed]",
      "text/plain": [
       "<matplotlib.figure.Figure at 0xaad4400>"
      ]
     },
     "metadata": {},
     "output_type": "display_data"
    },
    {
     "data": {
      "image/png": "[encoded data removed]",
      "text/plain": [
       "<matplotlib.figure.Figure at 0xaad43c8>"
      ]
     },
     "metadata": {},
     "output_type": "display_data"
    }
   ],
   "source": [
    "titanic_sur_age_df = titanic_df[['Survived', 'Age']]\n",
    "titanic_age_count_list = [0, 0, 0, 0, 0, 0, 0, 0, 0] #各年龄段的人数\n",
    "titanic_sur_count_list = [0, 0, 0, 0, 0, 0, 0, 0, 0] #各年龄段的生存者人数\n",
    "titanic_dead_count_list = [0, 0, 0, 0, 0, 0, 0, 0, 0] #各年龄段的死亡人数\n",
    "titanic_sur_rate_list = [0, 0, 0, 0, 0, 0, 0, 0, 0] #各年龄段的生存率\n",
    "\n",
    "#构造titanic_age_count_list、titanic_sur_count_list、titanic_dead_count_list和titanic_sur_rate_list四个列表\n",
    "i = 0\n",
    "while i < len(titanic_age_count_list):\n",
    "    titanic_age_count_list[i] = len(titanic_sur_age_df[(titanic_sur_age_df.Age >= i * 10.0) & (titanic_sur_age_df.Age < (i + 1) * 10.0)])\n",
    "    titanic_sur_count_list[i] = len(titanic_sur_age_df[(titanic_sur_age_df.Age >= i * 10.0) & (titanic_sur_age_df.Age < (i + 1) * 10.0) & \\\n",
    "                                              (titanic_sur_age_df.Survived == 1.0)])\n",
    "    titanic_dead_count_list[i] = titanic_age_count_list[i] - titanic_sur_count_list[i]\n",
    "    titanic_sur_rate_list[i] = (titanic_sur_count_list[i] * 1.0) / (titanic_age_count_list[i] * 1.0)\n",
    "    i = i + 1\n",
    "\n",
    "#构造titanic_sur_dead_count_list列表\n",
    "titanic_sur_dead_count_list = []\n",
    "j = 0\n",
    "while j < len(titanic_sur_count_list):\n",
    "    titanic_sur_dead_count_list.append([titanic_sur_count_list[j], titanic_dead_count_list[j]])\n",
    "    j = j + 1\n",
    "\n",
    "#构造titanic_sur_dead_count_df\n",
    "titanic_sur_dead_count_df = pd.DataFrame(\\\n",
    "                                      data = titanic_sur_dead_count_list,\\\n",
    "                                      index = ['0 - 10','10 - 20','20 - 30','30 - 40','40 - 50', '50 - 60','60 - 70','70 - 80','80 - 90'],\\\n",
    "                                      columns = ['survived','dead'])\n",
    "\n",
    "print \"各年龄段的生存者和死亡者人数：\"\n",
    "print titanic_sur_dead_count_df\n",
    "\n",
    "#生成柱状图和堆积图\n",
    "titanic_sur_dead_count_df.plot(kind = 'bar', title = 'The number of passengers survived and dead at all ages')\n",
    "titanic_sur_dead_count_df.plot(kind = 'barh', stacked = True, title = 'The number of passengers survived and dead at all ages')"
   ]
  },
  {
   "cell_type": "markdown",
   "metadata": {},
   "source": [
    "从这两幅图表来看，各年龄段的生还者普遍少于死亡者，可以看出Titanic各年龄段的生存率普遍偏低。"
   ]
  },
  {
   "cell_type": "markdown",
   "metadata": {},
   "source": [
    "各年龄段的生存和死亡人数大体成正比，生存人数和该年龄段总人数保持一定比例，使得人数较多的年龄段的乘客生还者较多，人数较少的年龄段的乘客生还者较少。"
   ]
  },
  {
   "cell_type": "markdown",
   "metadata": {},
   "source": [
    "不过我们似乎可以观察到一个细节，低于10岁的儿童和高于80岁的老人是唯一两个生还者多于死亡者的群体，而20岁至30岁的年轻人死亡人数看起来远远大于幸存者人数，这种悬殊相比其他年龄段更大。"
   ]
  },
  {
   "cell_type": "markdown",
   "metadata": {},
   "source": [
    "为此，在下一段代码我绘制了个年龄段生存率的柱形图，进行进一步分析。"
   ]
  },
  {
   "cell_type": "code",
   "execution_count": 14,
   "metadata": {},
   "outputs": [
    {
     "data": {
      "text/plain": [
       "<matplotlib.axes._subplots.AxesSubplot at 0xb4b36a0>"
      ]
     },
     "execution_count": 14,
     "metadata": {},
     "output_type": "execute_result"
    },
    {
     "data": {
      "image/png": "[encoded data removed]",
      "text/plain": [
       "<matplotlib.figure.Figure at 0xaa977b8>"
      ]
     },
     "metadata": {},
     "output_type": "display_data"
    }
   ],
   "source": [
    "titanic_sur_rate_df = pd.DataFrame(\\\n",
    "                                data = titanic_sur_rate_list,\\\n",
    "                                index = ['0 - 10','10 - 20','20 - 30','30 - 40','40 - 50', '50 - 60','60 - 70','70 - 80','80 - 90'],\\\n",
    "                                columns = ['survived rate'])\n",
    "titanic_sur_rate_df.plot(kind = 'bar', title = 'survived rate at all ages')"
   ]
  },
  {
   "cell_type": "markdown",
   "metadata": {},
   "source": [
    "可以看到，10岁至70岁各个年龄段的生存率大体持平，这印证了前面的分析，生存人数和该年龄段总人数保持一定比例，各年龄段的生存和死亡人数大体成正比。但是，我们也有以下发现："
   ]
  },
  {
   "cell_type": "markdown",
   "metadata": {},
   "source": [
    "0至10岁年龄段的乘客有较高的生存率，我猜测这是因为Titanic的船员在紧急情况下将救生艇更多地留给了儿童，也体现了乘客在面对生命的抉择时往往会舍弃自己而为孩子留下更多生存的机会。"
   ]
  },
  {
   "cell_type": "markdown",
   "metadata": {},
   "source": [
    "60至70岁和20至30岁两个年龄段的生存率相对更低，这印证了前面的分析，20岁至30岁的生存和死亡比例悬殊相对更大(60至70岁年龄段因为人数较少，在柱形图中不易察觉)，我猜测这是因为处于这两个年龄段的乘客大多是0至10岁那部分儿童乘客的父母或祖父母，他们可能在紧急时刻放弃了自己的生命，把机会留给了孩子，这也印证了我在上一项分析中的猜测。"
   ]
  },
  {
   "cell_type": "markdown",
   "metadata": {},
   "source": [
    "70至80岁的生存率为0，结合前面的图表可知，这个年龄段有6个人，全部未能幸存，或许这只是一种巧合，或许像我们在《Titanic》中所看到的那样，这个年龄的人或许更能够冷静地直面死亡。"
   ]
  },
  {
   "cell_type": "markdown",
   "metadata": {},
   "source": [
    "80至90岁的生存率为100%，这引起了我的好奇，不过观察前面的图表可知，有记录的这个年龄段的乘客只有1人，而这1人恰好幸存了下来，所以造成了这个令人惊讶的生存率，这只是一种巧合。"
   ]
  },
  {
   "cell_type": "markdown",
   "metadata": {},
   "source": [
    "不过，以上的猜测不一定成立，还有更多的干扰因素可能导致这样不同的生存率，在紧急状况下，乘客所在的位置，求生的能力、船员的营救状况以及一些突发事件等等因素，都会影响生存率，所以以上猜测并不能说明生存率与年龄之间存在必然的联系。"
   ]
  },
  {
   "cell_type": "markdown",
   "metadata": {},
   "source": [
    "### (2) 生存率与船舱等级的联系(Survived - Pclass)"
   ]
  },
  {
   "cell_type": "markdown",
   "metadata": {},
   "source": [
    "三个等级的船舱人数不同，其中3级船舱人数较多，1级和2级船舱人数相近，但三个等级的船舱都是有一百多或三百多人，数量较多，可以直接比较三个等级船舱的生存率，以下代码我绘制了三个等级船舱的生存人数柱状图、堆积图和生存率的柱形图。"
   ]
  },
  {
   "cell_type": "code",
   "execution_count": 15,
   "metadata": {
    "scrolled": false
   },
   "outputs": [
    {
     "name": "stdout",
     "output_type": "stream",
     "text": [
      "各舱位的生存者和死亡者人数：\n",
      "          survived  dead\n",
      "Pclass_1       120    64\n",
      "Pclass_2        83    90\n",
      "Pclass_3        85   270\n"
     ]
    },
    {
     "data": {
      "text/plain": [
       "<matplotlib.axes._subplots.AxesSubplot at 0xc50d710>"
      ]
     },
     "execution_count": 15,
     "metadata": {},
     "output_type": "execute_result"
    },
    {
     "data": {
      "image/png": "[encoded data removed]",
      "text/plain": [
       "<matplotlib.figure.Figure at 0xc138fd0>"
      ]
     },
     "metadata": {},
     "output_type": "display_data"
    },
    {
     "data": {
      "image/png": "[encoded data removed]",
      "text/plain": [
       "<matplotlib.figure.Figure at 0xc122320>"
      ]
     },
     "metadata": {},
     "output_type": "display_data"
    },
    {
     "data": {
      "image/png": "[encoded data removed]",
      "text/plain": [
       "<matplotlib.figure.Figure at 0xc50d160>"
      ]
     },
     "metadata": {},
     "output_type": "display_data"
    }
   ],
   "source": [
    "titanic_sur_pclass_df = titanic_df[['Survived', 'Pclass']]\n",
    "titanic_pclass_count_list = [0, 0, 0] #各船舱等级的人数\n",
    "titanic_sur_pclass_count_list = [0, 0, 0] #各船舱等级的生存者人数\n",
    "titanic_dead_pclass_count_list = [0, 0, 0] #各船舱等级的死亡人数\n",
    "titanic_sur_pcalss_rate_list = [0, 0, 0] #各船舱等级的生存率\n",
    "\n",
    "#将titanic_sur_pclass_df转换为list，方便遍历统计\n",
    "titanic_sur_pclass_np = np.array(titanic_sur_pclass_df)\n",
    "titanic_sur_pclass_list = titanic_sur_pclass_np.tolist()\n",
    "\n",
    "#构造titanic_pclass_count_list、titanic_sur_pclass_count_list、titanic_sur_pcalss_rate_list三个列表\n",
    "i = 0\n",
    "while i < len(titanic_pclass_count_list):\n",
    "    j = 0\n",
    "    count_pclass = 0\n",
    "    while j < len(titanic_sur_pclass_list):\n",
    "        if int(titanic_sur_pclass_list[j][1]) == i + 1:\n",
    "            count_pclass = count_pclass + 1\n",
    "        j = j + 1\n",
    "    titanic_pclass_count_list[i] = count_pclass\n",
    "    \n",
    "    j = 0\n",
    "    count_sur_pclass = 0\n",
    "    while j < len(titanic_sur_pclass_list):\n",
    "        if int(titanic_sur_pclass_list[j][1]) == i + 1 and int(titanic_sur_pclass_list[j][0]) == 1:\n",
    "            count_sur_pclass = count_sur_pclass + 1\n",
    "        j = j + 1\n",
    "    titanic_sur_pclass_count_list[i] = count_sur_pclass\n",
    "\n",
    "    titanic_dead_pclass_count_list[i] = titanic_pclass_count_list[i] - titanic_sur_pclass_count_list[i]\n",
    "    titanic_sur_pcalss_rate_list[i] = (titanic_sur_pclass_count_list[i] * 1.0) / (titanic_pclass_count_list[i] * 1.0)\n",
    "    i = i + 1\n",
    "\n",
    "#构造titanic_sur_dead_pclass_count_list列表\n",
    "titanic_sur_dead_pclass_count_list = []\n",
    "j = 0\n",
    "while j < len(titanic_pclass_count_list):\n",
    "    titanic_sur_dead_pclass_count_list.append([titanic_sur_pclass_count_list[j], titanic_dead_pclass_count_list[j]])\n",
    "    j = j + 1\n",
    "\n",
    "#构造titanic_sur_dead_count_df\n",
    "titanic_sur_dead_pclass_count_df = pd.DataFrame(\\\n",
    "                                      data = titanic_sur_dead_pclass_count_list,\\\n",
    "                                      index = ['Pclass_1', 'Pclass_2', 'Pclass_3'],\\\n",
    "                                      columns = ['survived','dead'])\n",
    "\n",
    "print \"各舱位的生存者和死亡者人数：\"\n",
    "print titanic_sur_dead_pclass_count_df\n",
    "\n",
    "#生成柱状图和堆积图\n",
    "titanic_sur_dead_pclass_count_df.plot(kind = 'bar', title = 'The number of passengers survived and dead at all pclasses')\n",
    "titanic_sur_dead_pclass_count_df.plot(kind = 'barh', stacked = True, title = 'The number of passengers survived and dead at all pclasses')\n",
    "\n",
    "#生成各等级舱位生存率的柱状图\n",
    "titanic_sur_pcalss_rate_df = pd.DataFrame(\\\n",
    "                                data = titanic_sur_pcalss_rate_list,\\\n",
    "                                index = ['Pclass_1', 'Pclass_2', 'Pclass_3'],\\\n",
    "                                columns = ['survived rate'])\n",
    "titanic_sur_pcalss_rate_df.plot(kind = 'bar', title = 'survived rate at every pclass')"
   ]
  },
  {
   "cell_type": "markdown",
   "metadata": {
    "collapsed": true
   },
   "source": [
    "从前两幅图来看，3个等级的舱位的乘客的生存状况有很大差异，1级舱位有较多的乘客生存下来；2级舱位幸存和死亡的乘客相对持平，死亡的乘客略多于幸存的乘客；3级舱位死亡的乘客远多于幸存者。"
   ]
  },
  {
   "cell_type": "markdown",
   "metadata": {},
   "source": [
    "通过第三幅图可以看出，1级舱位、2级舱位、3级舱位的生存率逐个递减。3级舱位死亡数量巨大，不仅仅是因为3级舱位乘客数量基数很大，更是因为3级舱位本身生存率就很低。"
   ]
  },
  {
   "cell_type": "markdown",
   "metadata": {},
   "source": [
    "通过数据分析，我猜测更高级的舱位的乘客享有了优先逃生的机会，这可能是因为高级舱位提供了足够的逃生设备，或者高级舱位所处的位置更加安全，也有可能船员救生时为高级舱位的乘客提供了“绿色通道”。"
   ]
  },
  {
   "cell_type": "markdown",
   "metadata": {},
   "source": [
    "但以上猜测也不一定是绝对成立的，其他的干扰因素可能也会导致这样的生存率差异，例如3级舱位可能因为人数众多对信息的获取更慢，导致逃生的时间更少。"
   ]
  },
  {
   "cell_type": "markdown",
   "metadata": {},
   "source": [
    "### (3) 生存率与性别的联系(Survived - Sex)"
   ]
  },
  {
   "cell_type": "markdown",
   "metadata": {},
   "source": [
    "以下代码我绘制了不同性别的生存人数柱状图、堆积图和生存率的柱形图。"
   ]
  },
  {
   "cell_type": "code",
   "execution_count": 16,
   "metadata": {},
   "outputs": [
    {
     "name": "stdout",
     "output_type": "stream",
     "text": [
      "不同性别的生存者和死亡者人数：\n",
      "        survived  dead\n",
      "male          93   360\n",
      "female       195    64\n"
     ]
    },
    {
     "data": {
      "text/plain": [
       "<matplotlib.axes._subplots.AxesSubplot at 0xc4a85c0>"
      ]
     },
     "execution_count": 16,
     "metadata": {},
     "output_type": "execute_result"
    },
    {
     "data": {
      "image/png": "[encoded data removed]",
      "text/plain": [
       "<matplotlib.figure.Figure at 0xa56c438>"
      ]
     },
     "metadata": {},
     "output_type": "display_data"
    },
    {
     "data": {
      "image/png": "[encoded data removed]",
      "text/plain": [
       "<matplotlib.figure.Figure at 0xc5b4518>"
      ]
     },
     "metadata": {},
     "output_type": "display_data"
    },
    {
     "data": {
      "image/png": "[encoded data removed]",
      "text/plain": [
       "<matplotlib.figure.Figure at 0xc4f3978>"
      ]
     },
     "metadata": {},
     "output_type": "display_data"
    }
   ],
   "source": [
    "titanic_sur_sex_df = titanic_df[['Survived', 'Sex']]\n",
    "titanic_sex_count_list = [0, 0] #不同性别的人数\n",
    "titanic_sur_sex_count_list = [0, 0] #不同性别的生存者人数\n",
    "titanic_dead_sex_count_list = [0, 0] #不同性别的死亡人数\n",
    "titanic_sur_rate_sex_list = [0, 0] #不同性别的生存率\n",
    "\n",
    "#titanic_sex_count_list、titanic_sur_count_list、titanic_dead_count_list和titanic_sur_rate_list四个列表\n",
    "titanic_sex_count_list[0] = len(titanic_sur_sex_df[(titanic_sur_sex_df.Sex == 'male')])\n",
    "titanic_sex_count_list[1] = len(titanic_sur_sex_df[(titanic_sur_sex_df.Sex == 'female')])\n",
    "titanic_sur_sex_count_list[0] = len(titanic_sur_age_df[(titanic_sur_sex_df.Sex == 'male') & (titanic_sur_age_df.Survived == 1.0)])\n",
    "titanic_sur_sex_count_list[1] = len(titanic_sur_age_df[(titanic_sur_sex_df.Sex == 'female') & (titanic_sur_age_df.Survived == 1.0)])\n",
    "titanic_dead_sex_count_list[0] = len(titanic_sur_age_df[(titanic_sur_sex_df.Sex == 'male') & (titanic_sur_age_df.Survived == 0.0)])\n",
    "titanic_dead_sex_count_list[1] = len(titanic_sur_age_df[(titanic_sur_sex_df.Sex == 'female') & (titanic_sur_age_df.Survived == 0.0)])\n",
    "titanic_sur_rate_sex_list[0] = (titanic_sur_sex_count_list[0] * 1.0) / (titanic_sex_count_list[0] * 1.0)\n",
    "titanic_sur_rate_sex_list[1] = (titanic_sur_sex_count_list[1] * 1.0) / (titanic_sex_count_list[1] * 1.0)\n",
    "\n",
    "#构造titanic_sur_dead_sex_count_list列表\n",
    "titanic_sur_dead_sex_count_list = []\n",
    "j = 0\n",
    "while j < len(titanic_sex_count_list):\n",
    "    titanic_sur_dead_sex_count_list.append([titanic_sur_sex_count_list[j], titanic_dead_sex_count_list[j]])\n",
    "    j = j + 1\n",
    "\n",
    "#构造titanic_sur_dead_count_df\n",
    "titanic_sur_dead_sex_count_df = pd.DataFrame(\\\n",
    "                                      data = titanic_sur_dead_sex_count_list,\\\n",
    "                                      index = ['male', 'female'],\\\n",
    "                                      columns = ['survived','dead'])\n",
    "\n",
    "print \"不同性别的生存者和死亡者人数：\"\n",
    "print titanic_sur_dead_sex_count_df\n",
    "\n",
    "#生成柱状图和堆积图\n",
    "titanic_sur_dead_sex_count_df.plot(kind = 'bar', title = 'The number of passengers survived and dead at each gender')\n",
    "titanic_sur_dead_sex_count_df.plot(kind = 'barh', stacked = True, title = 'The number of passengers survived and dead at each gender')\n",
    "\n",
    "#生成不同性别生存率的柱状图\n",
    "titanic_sur_rate_sex_df = pd.DataFrame(\\\n",
    "                                data = titanic_sur_rate_sex_list,\\\n",
    "                                index = ['male', 'female'],\\\n",
    "                                columns = ['survived rate'])\n",
    "titanic_sur_rate_sex_df.plot(kind = 'bar', title = 'survived rate at each gender')"
   ]
  },
  {
   "cell_type": "markdown",
   "metadata": {},
   "source": [
    "在之前对乘客性别的单变量分析中，我们获知男性乘客多余乘客女性。然而，通过本多变量分析可以看出，男性乘客的幸存者却远远少于女性，男性乘客的死亡人数也远远大于女性乘客。"
   ]
  },
  {
   "cell_type": "markdown",
   "metadata": {},
   "source": [
    "通过第三幅图可以看出，男性乘客的生存率仅有20%左右，女性乘客的生存率高达75%左右。男性乘客的生存率远远低于女性乘客，差距非常悬殊。"
   ]
  },
  {
   "cell_type": "markdown",
   "metadata": {},
   "source": [
    "我猜测造成该生存率的巨大悬殊可能是因为船员救生的时候更多地照顾了女性乘客，也有可能在灾难发生时， 大多男性乘客把生存的机会留给了自己的爱人(类似于《Titanic》的剧情，Jack把生存的机会留给了Rose)。"
   ]
  },
  {
   "cell_type": "markdown",
   "metadata": {},
   "source": [
    "但以上也仅仅是一种猜测，我们不能断定生存率必然和性别存在联系。其他的干扰因素可能依然存在，例如，女性乘客的客舱位置可能相对男性更加安全，或者女性乘客的年龄普遍更加年轻，具备更强的求生能力。这些都会造成该生存率在性别上的差异。"
   ]
  },
  {
   "cell_type": "markdown",
   "metadata": {},
   "source": [
    "### (4) 生存率与同行亲属数量的联系(Survived - SibSp)"
   ]
  },
  {
   "cell_type": "markdown",
   "metadata": {},
   "source": [
    "不同同行亲属数量的人数差异较大，近2/3的乘客都是独自出行，约1/4的乘客有一位同行亲属，少量的乘客有两人或两人以上的同行亲属，所以我们需要使用柱状图和堆积图来详细分析不同亲属数量的情况。以下代码我绘制了不同亲属数量的生存人数柱状图、堆积图和生存率的柱形图。"
   ]
  },
  {
   "cell_type": "code",
   "execution_count": 17,
   "metadata": {},
   "outputs": [
    {
     "name": "stdout",
     "output_type": "stream",
     "text": [
      "不同亲属数量的生存者和死亡者人数：\n",
      "   survived  dead\n",
      "0       173   296\n",
      "1        97    86\n",
      "2        11    14\n",
      "3         4     8\n",
      "4         3    15\n",
      "5         0     5\n"
     ]
    },
    {
     "data": {
      "text/plain": [
       "<matplotlib.axes._subplots.AxesSubplot at 0xc714780>"
      ]
     },
     "execution_count": 17,
     "metadata": {},
     "output_type": "execute_result"
    },
    {
     "data": {
      "image/png": "[encoded data removed]",
      "text/plain": [
       "<matplotlib.figure.Figure at 0xc2fc7b8>"
      ]
     },
     "metadata": {},
     "output_type": "display_data"
    },
    {
     "data": {
      "image/png": "[encoded data removed]",
      "text/plain": [
       "<matplotlib.figure.Figure at 0xc1639b0>"
      ]
     },
     "metadata": {},
     "output_type": "display_data"
    },
    {
     "data": {
      "image/png": "[encoded data removed]",
      "text/plain": [
       "<matplotlib.figure.Figure at 0xc7141d0>"
      ]
     },
     "metadata": {},
     "output_type": "display_data"
    }
   ],
   "source": [
    "titanic_sur_SibSp_df = titanic_df[['Survived', 'SibSp']]\n",
    "titanic_SibSp_count_list = [0, 0, 0, 0, 0, 0,] #不同同行亲属的人数\n",
    "titanic_sur_SibSp_count_list = [0, 0, 0, 0, 0, 0] #不同同行亲属的生存者人数\n",
    "titanic_dead_SibSp_count_list = [0, 0, 0, 0, 0, 0] #不同同行亲属的死亡人数\n",
    "titanic_sur_SibSp_rate_list = [0, 0, 0, 0, 0, 0] #不同同行亲属的生存率\n",
    "\n",
    "#构造titanic_age_count_list、titanic_sur_count_list、titanic_dead_count_list和titanic_sur_rate_list四个列表\n",
    "i = 0\n",
    "while i < len(titanic_SibSp_count_list):\n",
    "    titanic_SibSp_count_list[i] = len(titanic_sur_SibSp_df[(titanic_sur_SibSp_df.SibSp == i)])\n",
    "    titanic_sur_SibSp_count_list[i] = len(titanic_sur_SibSp_df[(titanic_sur_SibSp_df.SibSp == i) & (titanic_sur_SibSp_df.Survived == 1.0)])\n",
    "    titanic_dead_SibSp_count_list[i] = len(titanic_sur_SibSp_df[(titanic_sur_SibSp_df.SibSp == i) & (titanic_sur_SibSp_df.Survived == 0.0)])\n",
    "    titanic_sur_SibSp_rate_list[i] = (titanic_sur_SibSp_count_list[i] * 1.0) / (titanic_SibSp_count_list[i] * 1.0)\n",
    "    i = i + 1\n",
    "\n",
    "#构造titanic_sur_dead_count_list列表\n",
    "titanic_sur_dead_SibSp_count_list = []\n",
    "j = 0\n",
    "while j < len(titanic_SibSp_count_list):\n",
    "    titanic_sur_dead_SibSp_count_list.append([titanic_sur_SibSp_count_list[j], titanic_dead_SibSp_count_list[j]])\n",
    "    j = j + 1\n",
    "\n",
    "#构造titanic_sur_dead_count_df\n",
    "titanic_sur_dead_SibSp_count_df = pd.DataFrame(\\\n",
    "                                      data = titanic_sur_dead_SibSp_count_list,\\\n",
    "                                      index = ['0', '1', '2', '3', '4', '5'],\\\n",
    "                                      columns = ['survived','dead'])\n",
    "\n",
    "print \"不同亲属数量的生存者和死亡者人数：\"\n",
    "print titanic_sur_dead_SibSp_count_df\n",
    "\n",
    "#生成柱状图和堆积图\n",
    "titanic_sur_dead_SibSp_count_df.plot(kind = 'bar', title = 'The number of passengers survived and dead at every SibSp')\n",
    "titanic_sur_dead_SibSp_count_df.plot(kind = 'barh', stacked = True, title = 'The number of passengers survived and dead at every SibSp')\n",
    "\n",
    "#生成不同亲属数量的乘客生存率柱状图\n",
    "titanic_sur_dead_SibSp_count_df = pd.DataFrame(\\\n",
    "                                data = titanic_sur_SibSp_rate_list,\\\n",
    "                                index = ['0', '1', '2', '3', '4', '5'],\\\n",
    "                                columns = ['survived rate'])\n",
    "titanic_sur_dead_SibSp_count_df.plot(kind = 'bar', title = 'survived rate at every SibSp')"
   ]
  },
  {
   "cell_type": "markdown",
   "metadata": {
    "collapsed": true
   },
   "source": [
    "大多数乘客是单独出行或携带了一位亲属，携带两个或两个以上亲属的乘客数量较少，通过前两幅图观察他们幸存和死亡的人数，可以看出单独出行的乘客死亡的人数最多，但幸存的人数也最多，这是因为单独出行的乘客占了大多数。通过对比发现，携带一位亲属的乘客是唯一幸存者多于死亡人数的群体。"
   ]
  },
  {
   "cell_type": "markdown",
   "metadata": {},
   "source": [
    "通过观察第三幅图，除了单独出行的乘客，其他携带1位亲属至5位亲属的乘客生存率逐个降低。我推测这是因为单独出行的乘客需要独自完成自救，求生能力不高，而携带一位亲属的乘客在面对自己的一个家人时具有更强的求生欲望和求生能力，他们可以协作完成逃生。携带过多亲属的乘客会因为需要照顾太多的亲人而拖延求生时间，导致了他们生存率更低。"
   ]
  },
  {
   "cell_type": "markdown",
   "metadata": {},
   "source": [
    "以上猜测也不一定能够证明生存率与乘客携带亲属数量存在必然的联系，依然存在一些干扰因素。在这个数据集中，携带两个或两个以上亲属的乘客数量太少，该生存率的数据可能不具有代表性。"
   ]
  },
  {
   "cell_type": "markdown",
   "metadata": {},
   "source": [
    "### (5) 生存率与票价的联系(Survived - Fare) "
   ]
  },
  {
   "cell_type": "markdown",
   "metadata": {},
   "source": [
    "因为票价遵循了帕累托定律(Pareto Principle)，各个票价的乘客数量非常不均衡，因此我们同样采用柱形图和累计图结合生存率柱形图进行分析。以下代码我绘制了不同票价乘客的生存人数柱状图、堆积图和生存率的柱形图。"
   ]
  },
  {
   "cell_type": "code",
   "execution_count": 18,
   "metadata": {
    "scrolled": false
   },
   "outputs": [
    {
     "name": "stdout",
     "output_type": "stream",
     "text": [
      "各票价区间的生存者和死亡者人数：\n",
      "           survived  dead\n",
      "0 - 50          192   384\n",
      "50 - 100         60    28\n",
      "100 - 150        16     5\n",
      "150 - 200         6     3\n",
      "200 - 250         7     2\n",
      "250 - 300         4     2\n",
      "300 - 350         0     0\n",
      "350 - 400         0     0\n",
      "400 - 450         0     0\n",
      "450 - 500         0     0\n",
      "500 - 550         3     0\n",
      "550 - 600         0     0\n"
     ]
    },
    {
     "data": {
      "text/plain": [
       "<matplotlib.axes._subplots.AxesSubplot at 0xd9144a8>"
      ]
     },
     "execution_count": 18,
     "metadata": {},
     "output_type": "execute_result"
    },
    {
     "data": {
      "image/png": "[encoded data removed]",
      "text/plain": [
       "<matplotlib.figure.Figure at 0xcd3ed30>"
      ]
     },
     "metadata": {},
     "output_type": "display_data"
    },
    {
     "data": {
      "image/png": "[encoded data removed]",
      "text/plain": [
       "<matplotlib.figure.Figure at 0xca5e3c8>"
      ]
     },
     "metadata": {},
     "output_type": "display_data"
    },
    {
     "data": {
      "image/png": "[encoded data removed]",
      "text/plain": [
       "<matplotlib.figure.Figure at 0xd89c780>"
      ]
     },
     "metadata": {},
     "output_type": "display_data"
    }
   ],
   "source": [
    "titanic_sur_fare_df = titanic_df[['Survived', 'Fare']]\n",
    "titanic_fare_count_list = [0, 0, 0, 0, 0, 0, 0, 0, 0, 0, 0, 0] #各票价区间的人数\n",
    "titanic_sur_fare_count_list = [0, 0, 0, 0, 0, 0, 0, 0, 0, 0, 0, 0] #各票价区间的生存者人数\n",
    "titanic_dead_fare_count_list = [0, 0, 0, 0, 0, 0, 0, 0, 0, 0, 0, 0] #各票价区间的死亡人数\n",
    "titanic_sur_fare_rate_list = [0, 0, 0, 0, 0, 0, 0, 0, 0, 0, 0, 0] #各票价区间的生存率\n",
    "\n",
    "#构造titanic_age_count_list、titanic_sur_count_list、titanic_dead_count_list和titanic_sur_rate_list四个列表\n",
    "i = 0\n",
    "while i < len(titanic_fare_count_list):\n",
    "    titanic_fare_count_list[i] = len(titanic_sur_fare_df[(titanic_sur_fare_df.Fare >= i * 50.0) & (titanic_sur_fare_df.Fare < (i + 1) * 50.0)])\n",
    "    titanic_sur_fare_count_list[i] = len(titanic_sur_fare_df[(titanic_sur_fare_df.Fare >= i * 50.0) & (titanic_sur_fare_df.Fare < (i + 1) * 50.0) &\\\n",
    "                                                            (titanic_sur_fare_df.Survived == 1.0)])\n",
    "    titanic_dead_fare_count_list[i] = titanic_fare_count_list[i] - titanic_sur_fare_count_list[i]\n",
    "    if titanic_fare_count_list[i] != 0:\n",
    "        titanic_sur_fare_rate_list[i] = (titanic_sur_fare_count_list[i] * 1.0) / (titanic_fare_count_list[i] * 1.0)\n",
    "    else:\n",
    "        titanic_sur_fare_rate_list[i] = 0\n",
    "    i = i + 1\n",
    "\n",
    "#构造titanic_sur_dead_count_list列表\n",
    "titanic_sur_dead_fare_count_list = []\n",
    "j = 0\n",
    "while j < len(titanic_sur_fare_count_list):\n",
    "    titanic_sur_dead_fare_count_list.append([titanic_sur_fare_count_list[j], titanic_dead_fare_count_list[j]])\n",
    "    j = j + 1\n",
    "\n",
    "#构造titanic_sur_dead_count_df\n",
    "titanic_sur_dead_fare_count_df = pd.DataFrame(\\\n",
    "                                      data = titanic_sur_dead_fare_count_list,\\\n",
    "                                      index = ['0 - 50','50 - 100','100 - 150','150 - 200','200 - 250', '250 - 300', '300 - 350',\\\n",
    "                                              '350 - 400','400 - 450','450 - 500','500 - 550','550 - 600'],\\\n",
    "                                      columns = ['survived','dead'])\n",
    "\n",
    "print \"各票价区间的生存者和死亡者人数：\"\n",
    "print titanic_sur_dead_fare_count_df\n",
    "\n",
    "#生成柱状图和堆积图\n",
    "titanic_sur_dead_fare_count_df.plot(kind = 'bar', title = 'The number of passengers survived and dead at all fares')\n",
    "titanic_sur_dead_fare_count_df.plot(kind = 'barh', stacked = True, title = 'The number of passengers survived and dead at all fares')\n",
    "\n",
    "titanic_sur_fare_rate_df = pd.DataFrame(\\\n",
    "                                data = titanic_sur_fare_rate_list,\\\n",
    "                                index = ['0 - 50','50 - 100','100 - 150','150 - 200','200 - 250', '250 - 300', '300 - 350',\\\n",
    "                                         '350 - 400','400 - 450','450 - 500','500 - 550','550 - 600'],\\\n",
    "                                columns = ['survived rate'])\n",
    "titanic_sur_fare_rate_df.plot(kind = 'bar', title = 'survived rate at all fares')"
   ]
  },
  {
   "cell_type": "markdown",
   "metadata": {},
   "source": [
    "通过分析我们可以看出，票价低于50的乘客生存率最低，低于40%，其他票价区间的乘客的生存率都达到了60%以上，总体上票价越贵的乘客生存率更高。甚至，在唯有的三张500以上的奢侈舱位中，这三位乘客全部幸存了下来，生存率达到100%。"
   ]
  },
  {
   "cell_type": "markdown",
   "metadata": {},
   "source": [
    "我猜测造成该生存率差异的原因是，更高票价的舱位可能拥有逃生的优先机会，同时高价舱位拥有完备的逃生设备和引导。低价舱位的救生条件不好，导致了生存率很低。"
   ]
  },
  {
   "cell_type": "markdown",
   "metadata": {},
   "source": [
    "以上猜测也不能说明生存率与票价之间存在必然联系，低价舱位可能因为人数过于庞大，造成逃生时候拥堵，或导致踩踏事件，造成生存率很低。而高价舱位因为人数很少，不会因为拥堵而失去逃生的机会。当然，高价舱位本身数据量过小，也不具有代表性。"
   ]
  },
  {
   "cell_type": "markdown",
   "metadata": {},
   "source": [
    "# 五、结论阶段(Drawing Conclusions Phase)"
   ]
  },
  {
   "cell_type": "markdown",
   "metadata": {},
   "source": [
    "总结以上各项分析，得出结论如下："
   ]
  },
  {
   "cell_type": "markdown",
   "metadata": {},
   "source": [
    "1、0至10岁年龄段的乘客有较高的生存率，60至70岁和20至30岁两个年龄段的生存率相对更低。"
   ]
  },
  {
   "cell_type": "markdown",
   "metadata": {},
   "source": [
    "2、1级舱位、2级舱位、3级舱位的生存率逐个递减。"
   ]
  },
  {
   "cell_type": "markdown",
   "metadata": {},
   "source": [
    "3、男性乘客的生存率仅有20%左右，女性乘客的生存率高达75%左右。男性乘客的生存率远远低于女性乘客，差距非常悬殊。"
   ]
  },
  {
   "cell_type": "markdown",
   "metadata": {},
   "source": [
    "4、除了单独出行的乘客生存率较低，携带1位亲属的乘客生存率最高，携带1位亲属至5位亲属的乘客生存率逐个降低。"
   ]
  },
  {
   "cell_type": "markdown",
   "metadata": {},
   "source": [
    "5、票价低于50的乘客生存率最低，低于40%，其他票价区间的乘客的生存率都达到了60%以上，总体上票价越贵的乘客生存率更高。"
   ]
  },
  {
   "cell_type": "markdown",
   "metadata": {},
   "source": [
    "6、以上票价和各变量的联系并不是必然的，他们都有诸多干扰因素。因此，以上分析只是一种推测，并不具有绝对意义。"
   ]
  },
  {
   "cell_type": "markdown",
   "metadata": {},
   "source": [
    "# 六、沟通阶段(Communication Phase)"
   ]
  },
  {
   "cell_type": "markdown",
   "metadata": {},
   "source": [
    "1、0至10岁年龄段的乘客有较高的生存率，60至70岁和20至30岁两个年龄段的生存率相对更低。原因分析：Titanic的船员在紧急情况下可能将救生艇更多地留给了儿童，乘客在面对生命的抉择时往往会舍弃自己而为孩子留下更多生存的机会；因为处于20至30岁和60和70岁年龄段的乘客大多是0至10岁那部分儿童乘客的父母或祖父母，他们可能在紧急时刻放弃了自己的生命，把机会留给了孩子。"
   ]
  },
  {
   "cell_type": "code",
   "execution_count": 19,
   "metadata": {},
   "outputs": [
    {
     "data": {
      "text/plain": [
       "<matplotlib.axes._subplots.AxesSubplot at 0xc108e48>"
      ]
     },
     "execution_count": 19,
     "metadata": {},
     "output_type": "execute_result"
    },
    {
     "data": {
      "image/png": "[encoded data removed]",
      "text/plain": [
       "<matplotlib.figure.Figure at 0xbee6208>"
      ]
     },
     "metadata": {},
     "output_type": "display_data"
    }
   ],
   "source": [
    "titanic_sur_rate_df.plot(kind = 'bar', title = 'survived rate at all ages')"
   ]
  },
  {
   "cell_type": "markdown",
   "metadata": {},
   "source": [
    "2、1级舱位、2级舱位、3级舱位的生存率逐个递减。原因分析：更高级的舱位的乘客可能享有了优先逃生的机会，这可能是因为高级舱位提供了足够的逃生设备，或者高级舱位所处的位置更加安全，也有可能船员救生时为高级舱位的乘客提供了“绿色通道”。"
   ]
  },
  {
   "cell_type": "code",
   "execution_count": 20,
   "metadata": {},
   "outputs": [
    {
     "data": {
      "text/plain": [
       "<matplotlib.axes._subplots.AxesSubplot at 0xd0effd0>"
      ]
     },
     "execution_count": 20,
     "metadata": {},
     "output_type": "execute_result"
    },
    {
     "data": {
      "image/png": "[encoded data removed]",
      "text/plain": [
       "<matplotlib.figure.Figure at 0xde28ba8>"
      ]
     },
     "metadata": {},
     "output_type": "display_data"
    }
   ],
   "source": [
    "titanic_sur_pcalss_rate_df.plot(kind = 'bar', title = 'survived rate at every pclass')"
   ]
  },
  {
   "cell_type": "markdown",
   "metadata": {},
   "source": [
    "3、男性乘客的生存率仅有20%左右，女性乘客的生存率高达75%左右。男性乘客的生存率远远低于女性乘客，差距非常悬殊。原因分析：可能是因为船员救生的时候更多地照顾了女性乘客，也有可能在灾难发生时， 大多男性乘客把生存的机会留给了自己的爱人(类似于《Titanic》的剧情，Jack把生存的机会留给了Rose)。"
   ]
  },
  {
   "cell_type": "code",
   "execution_count": 21,
   "metadata": {},
   "outputs": [
    {
     "data": {
      "text/plain": [
       "<matplotlib.axes._subplots.AxesSubplot at 0xc138f60>"
      ]
     },
     "execution_count": 21,
     "metadata": {},
     "output_type": "execute_result"
    },
    {
     "data": {
      "image/png": "[encoded data removed]",
      "text/plain": [
       "<matplotlib.figure.Figure at 0xde340b8>"
      ]
     },
     "metadata": {},
     "output_type": "display_data"
    }
   ],
   "source": [
    "titanic_sur_rate_sex_df.plot(kind = 'bar', title = 'survived rate at each gender')"
   ]
  },
  {
   "cell_type": "markdown",
   "metadata": {},
   "source": [
    "4、除了单独出行的乘客生存率较低，携带1位亲属的乘客生存率最高，携带1位亲属至5位亲属的乘客生存率逐个降低。原因分析：可能单独出行的乘客需要独自完成自救，求生能力不高，而携带一位亲属的乘客在面对自己的一个家人时具有更强的求生欲望和求生能力，他们可以协作完成逃生；携带过多亲属的乘客会因为需要照顾太多的亲人而拖延求生时间，导致了他们生存率更低。"
   ]
  },
  {
   "cell_type": "code",
   "execution_count": 22,
   "metadata": {},
   "outputs": [
    {
     "data": {
      "text/plain": [
       "<matplotlib.axes._subplots.AxesSubplot at 0xd1602b0>"
      ]
     },
     "execution_count": 22,
     "metadata": {},
     "output_type": "execute_result"
    },
    {
     "data": {
      "image/png": "[encoded data removed]",
      "text/plain": [
       "<matplotlib.figure.Figure at 0xde0f6a0>"
      ]
     },
     "metadata": {},
     "output_type": "display_data"
    }
   ],
   "source": [
    "titanic_sur_dead_SibSp_count_df.plot(kind = 'bar', title = 'survived rate at every SibSp')"
   ]
  },
  {
   "cell_type": "markdown",
   "metadata": {},
   "source": [
    "5、票价低于50的乘客生存率最低，低于40%，其他票价区间的乘客的生存率都达到了60%以上，总体上票价越贵的乘客生存率更高。原因分析：更高票价的舱位可能拥有逃生的优先机会，同时高价舱位拥有完备的逃生设备和引导。低价舱位的救生条件不好，导致了生存率很低。"
   ]
  },
  {
   "cell_type": "code",
   "execution_count": 23,
   "metadata": {},
   "outputs": [
    {
     "data": {
      "text/plain": [
       "<matplotlib.axes._subplots.AxesSubplot at 0x55864a8>"
      ]
     },
     "execution_count": 23,
     "metadata": {},
     "output_type": "execute_result"
    },
    {
     "data": {
      "image/png": "[encoded data removed]",
      "text/plain": [
       "<matplotlib.figure.Figure at 0xd8908d0>"
      ]
     },
     "metadata": {},
     "output_type": "display_data"
    }
   ],
   "source": [
    "titanic_sur_fare_rate_df.plot(kind = 'bar', title = 'survived rate at all fares')"
   ]
  }
 ],
 "metadata": {
  "kernelspec": {
   "display_name": "Python 2",
   "language": "python",
   "name": "python2"
  },
  "language_info": {
   "codemirror_mode": {
    "name": "ipython",
    "version": 2
   },
   "file_extension": ".py",
   "mimetype": "text/x-python",
   "name": "python",
   "nbconvert_exporter": "python",
   "pygments_lexer": "ipython2",
   "version": "2.7.13"
  }
 },
 "nbformat": 4,
 "nbformat_minor": 2
}
